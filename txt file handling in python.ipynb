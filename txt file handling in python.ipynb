{
 "cells": [
  {
   "cell_type": "markdown",
   "id": "f2da0498",
   "metadata": {},
   "source": [
    "---\n",
    "---\n",
    "\n",
    "<center><h1> FILE HANDLING  </h1></center>\n",
    "\n",
    "\n",
    "#### `TEXT FILES`\n",
    "\n",
    "---\n",
    "\n",
    "* ***.txt***\n",
    "\n",
    "\n",
    "***FILE ACCESS MODES***\n",
    "\n",
    " * ***`Read Only (‘r’)`*** : It opens the text file for reading. If the file does not exists, raises I/O error.\n",
    " * ***`Read and Write (‘r+’)`*** : It opens the file for reading and writing. Raises I/O error if the file does not exists.\n",
    " * ***`Write Only (‘w’)`*** : It opens the file for writing. For existing file, the data over-written. Creates the file if the file does not exists.\n",
    " * ***`Write and Read (‘w+’)`*** : It opens the file for reading and writing. For existing file, data is truncated and over-written.\n",
    " * ***`Append Only (‘a’)`*** : It opens the file for writing. The file is created if it does not exist. The data being written will be inserted at the end, after the existing data.\n",
    " * ***`Append and Read (‘a+’)`*** : It opens the file for reading and writing. The file is created if it does not exist. The data being written will be inserted at the end, after the existing data.\n",
    "\n",
    "---\n",
    "\n",
    "---"
   ]
  },
  {
   "cell_type": "markdown",
   "id": "33e93909",
   "metadata": {},
   "source": [
    "#### `Reading Text Files`\n",
    "\n",
    "---"
   ]
  },
  {
   "cell_type": "code",
   "execution_count": 7,
   "id": "dc2856fb",
   "metadata": {},
   "outputs": [],
   "source": [
    "# open the file in read only mode\n",
    "text_file = open(\"C:/Users/sivak/OneDrive/Desktop/Books_Data/analytics vidhya/read text file/dataset/file_1.txt\", \"r\")"
   ]
  },
  {
   "cell_type": "code",
   "execution_count": 11,
   "id": "6f7cf004",
   "metadata": {},
   "outputs": [
    {
     "data": {
      "text/plain": [
       "'This is line number 1.\\nThis is line number 2.\\nThis is line number 3.\\nThis is line number 4.\\nThis is line number 5.\\nThis is line number 6.\\nThis is line number 7.\\nThis is line number 8.\\nThis is line number 9.\\nThis is line number 10.\\nThis is line number 11.\\nThis is line number 12.\\nThis is line number 13.\\nThis is line number 14.\\nThis is line number 15.\\nThis is line number 16.\\nThis is line number 17.\\nThis is line number 18.\\nThis is line number 19.\\nThis is line number 20.\\nThis is line number 21.\\nThis is line number 22.\\nThis is line number 23.\\nThis is line number 24.\\nThis is line number 25.\\nThis is line number 26.\\nThis is line number 27.\\nThis is line number 28.\\nThis is line number 29.\\nThis is line number 30.\\n'"
      ]
     },
     "execution_count": 11,
     "metadata": {},
     "output_type": "execute_result"
    }
   ],
   "source": [
    "# read the file and store the text in a variable\n",
    "Readed_text_file = text_file.read()\n",
    "Readed_text_file"
   ]
  },
  {
   "cell_type": "markdown",
   "id": "1f42b411",
   "metadata": {},
   "source": [
    "#### `Read the file again`\n",
    "\n",
    "---\n",
    "---"
   ]
  },
  {
   "cell_type": "code",
   "execution_count": 12,
   "id": "54ee8b82",
   "metadata": {},
   "outputs": [
    {
     "data": {
      "text/plain": [
       "''"
      ]
     },
     "execution_count": 12,
     "metadata": {},
     "output_type": "execute_result"
    }
   ],
   "source": [
    "# read the file again\n",
    "Readed_text_file = text_file.read()\n",
    "Readed_text_file"
   ]
  },
  {
   "cell_type": "markdown",
   "id": "f95a4158",
   "metadata": {},
   "source": [
    "* If you read the readed file again it will return empty, becase it start read from the end of the file already readed. so you should remember to open the file again every time you need to read."
   ]
  },
  {
   "cell_type": "code",
   "execution_count": 13,
   "id": "e8a5f0c4",
   "metadata": {},
   "outputs": [],
   "source": [
    "text_file = open(\"C:/Users/sivak/OneDrive/Desktop/Books_Data/analytics vidhya/read text file/dataset/file_1.txt\", \"r\")"
   ]
  },
  {
   "cell_type": "code",
   "execution_count": 14,
   "id": "29730a9a",
   "metadata": {},
   "outputs": [
    {
     "data": {
      "text/plain": [
       "'This is line number 1.\\nThis is line number 2.\\nThis is line number 3.\\nThis is line number 4.\\nThis is line number 5.\\nThis is line number 6.\\nThis is line number 7.\\nThis is line number 8.\\nThis is line number 9.\\nThis is line number 10.\\nThis is line number 11.\\nThis is line number 12.\\nThis is line number 13.\\nThis is line number 14.\\nThis is line number 15.\\nThis is line number 16.\\nThis is line number 17.\\nThis is line number 18.\\nThis is line number 19.\\nThis is line number 20.\\nThis is line number 21.\\nThis is line number 22.\\nThis is line number 23.\\nThis is line number 24.\\nThis is line number 25.\\nThis is line number 26.\\nThis is line number 27.\\nThis is line number 28.\\nThis is line number 29.\\nThis is line number 30.\\n'"
      ]
     },
     "execution_count": 14,
     "metadata": {},
     "output_type": "execute_result"
    }
   ],
   "source": [
    "text_file.read()"
   ]
  },
  {
   "cell_type": "markdown",
   "id": "be80bef0",
   "metadata": {},
   "source": [
    "***Another way to read the file again is by moving the pointer to the starting point again using `seek` function.***\n",
    "\n",
    "---\n",
    "---"
   ]
  },
  {
   "cell_type": "code",
   "execution_count": 22,
   "id": "9c8c5bcc",
   "metadata": {},
   "outputs": [
    {
     "data": {
      "text/plain": [
       "0"
      ]
     },
     "execution_count": 22,
     "metadata": {},
     "output_type": "execute_result"
    }
   ],
   "source": [
    "#first we shound move the pointer to the starting function by unsing seek function\n",
    "text_file.seek(0)"
   ]
  },
  {
   "cell_type": "code",
   "execution_count": 23,
   "id": "02ec90b6",
   "metadata": {},
   "outputs": [
    {
     "data": {
      "text/plain": [
       "'This is line number 1.\\nThis is line number 2.\\nThis is line number 3.\\nThis is line number 4.\\nThis is line number 5.\\nThis is line number 6.\\nThis is line number 7.\\nThis is line number 8.\\nThis is line number 9.\\nThis is line number 10.\\nThis is line number 11.\\nThis is line number 12.\\nThis is line number 13.\\nThis is line number 14.\\nThis is line number 15.\\nThis is line number 16.\\nThis is line number 17.\\nThis is line number 18.\\nThis is line number 19.\\nThis is line number 20.\\nThis is line number 21.\\nThis is line number 22.\\nThis is line number 23.\\nThis is line number 24.\\nThis is line number 25.\\nThis is line number 26.\\nThis is line number 27.\\nThis is line number 28.\\nThis is line number 29.\\nThis is line number 30.\\n'"
      ]
     },
     "execution_count": 23,
     "metadata": {},
     "output_type": "execute_result"
    }
   ],
   "source": [
    "text_file.read()"
   ]
  },
  {
   "cell_type": "markdown",
   "id": "5ee81c1a",
   "metadata": {},
   "source": [
    "***Using `seek` function, we can move to any point in the file and read the file.***\n",
    "\n",
    "---\n",
    "---"
   ]
  },
  {
   "cell_type": "code",
   "execution_count": 25,
   "id": "919059da",
   "metadata": {},
   "outputs": [
    {
     "data": {
      "text/plain": [
       "'his is line number 18.\\nThis is line number 19.\\nThis is line number 20.\\nThis is line number 21.\\nThis is line number 22.\\nThis is line number 23.\\nThis is line number 24.\\nThis is line number 25.\\nThis is line number 26.\\nThis is line number 27.\\nThis is line number 28.\\nThis is line number 29.\\nThis is line number 30.\\n'"
      ]
     },
     "execution_count": 25,
     "metadata": {},
     "output_type": "execute_result"
    }
   ],
   "source": [
    "#read the file from 400 character in the file\n",
    "text_file.seek(400)\n",
    "text_file.read()"
   ]
  },
  {
   "cell_type": "code",
   "execution_count": 26,
   "id": "60f9fea0",
   "metadata": {},
   "outputs": [],
   "source": [
    "#Close the file\n",
    "text_file.close()"
   ]
  },
  {
   "cell_type": "markdown",
   "id": "943d6ddc",
   "metadata": {},
   "source": [
    "***Read the file line by line***\n",
    "\n",
    "---\n",
    "---"
   ]
  },
  {
   "cell_type": "code",
   "execution_count": 31,
   "id": "c620e17b",
   "metadata": {},
   "outputs": [
    {
     "name": "stdout",
     "output_type": "stream",
     "text": [
      "No of lines in file is: 30\n"
     ]
    }
   ],
   "source": [
    "# read the file again store each line in a list\n",
    "text_file = open(\"C:/Users/sivak/OneDrive/Desktop/Books_Data/analytics vidhya/read text file/dataset/file_1.txt\", \"r\")\n",
    "lines = text_file.readlines()\n",
    "\n",
    "#no of lines\n",
    "print(\"No of lines in file is:\", format(len(lines)))"
   ]
  },
  {
   "cell_type": "code",
   "execution_count": 32,
   "id": "018535be",
   "metadata": {},
   "outputs": [
    {
     "name": "stdout",
     "output_type": "stream",
     "text": [
      "This is line number 1.\n",
      "\n",
      "This is line number 2.\n",
      "\n",
      "This is line number 3.\n",
      "\n",
      "This is line number 4.\n",
      "\n",
      "This is line number 5.\n",
      "\n",
      "This is line number 6.\n",
      "\n",
      "This is line number 7.\n",
      "\n",
      "This is line number 8.\n",
      "\n",
      "This is line number 9.\n",
      "\n",
      "This is line number 10.\n",
      "\n",
      "This is line number 11.\n",
      "\n",
      "This is line number 12.\n",
      "\n",
      "This is line number 13.\n",
      "\n",
      "This is line number 14.\n",
      "\n",
      "This is line number 15.\n",
      "\n",
      "This is line number 16.\n",
      "\n",
      "This is line number 17.\n",
      "\n",
      "This is line number 18.\n",
      "\n",
      "This is line number 19.\n",
      "\n",
      "This is line number 20.\n",
      "\n",
      "This is line number 21.\n",
      "\n",
      "This is line number 22.\n",
      "\n",
      "This is line number 23.\n",
      "\n",
      "This is line number 24.\n",
      "\n",
      "This is line number 25.\n",
      "\n",
      "This is line number 26.\n",
      "\n",
      "This is line number 27.\n",
      "\n",
      "This is line number 28.\n",
      "\n",
      "This is line number 29.\n",
      "\n",
      "This is line number 30.\n",
      "\n"
     ]
    }
   ],
   "source": [
    "# print each line in text\n",
    "for line in lines:\n",
    "    print(line)\n",
    "    \n",
    "#close the file\n",
    "text_file.close()"
   ]
  },
  {
   "cell_type": "markdown",
   "id": "460af576",
   "metadata": {},
   "source": [
    "***Another way to open the text file***\n",
    "\n",
    "---\n",
    "---"
   ]
  },
  {
   "cell_type": "code",
   "execution_count": 33,
   "id": "cfa1cf54",
   "metadata": {},
   "outputs": [],
   "source": [
    "with open(\"C:/Users/sivak/OneDrive/Desktop/Books_Data/analytics vidhya/read text file/dataset/file_1.txt\", \"r\") as f:\n",
    "    readed_text = f.read()"
   ]
  },
  {
   "cell_type": "code",
   "execution_count": 34,
   "id": "747cb944",
   "metadata": {},
   "outputs": [
    {
     "data": {
      "text/plain": [
       "'This is line number 1.\\nThis is line number 2.\\nThis is line number 3.\\nThis is line number 4.\\nThis is line number 5.\\nThis is line number 6.\\nThis is line number 7.\\nThis is line number 8.\\nThis is line number 9.\\nThis is line number 10.\\nThis is line number 11.\\nThis is line number 12.\\nThis is line number 13.\\nThis is line number 14.\\nThis is line number 15.\\nThis is line number 16.\\nThis is line number 17.\\nThis is line number 18.\\nThis is line number 19.\\nThis is line number 20.\\nThis is line number 21.\\nThis is line number 22.\\nThis is line number 23.\\nThis is line number 24.\\nThis is line number 25.\\nThis is line number 26.\\nThis is line number 27.\\nThis is line number 28.\\nThis is line number 29.\\nThis is line number 30.\\n'"
      ]
     },
     "execution_count": 34,
     "metadata": {},
     "output_type": "execute_result"
    }
   ],
   "source": [
    "readed_text"
   ]
  },
  {
   "cell_type": "markdown",
   "id": "0e64d18b",
   "metadata": {},
   "source": [
    "***Using `with` statement, Python will automatically closes the file after reading it.***\n",
    "\n",
    "---"
   ]
  },
  {
   "cell_type": "markdown",
   "id": "e933bbff",
   "metadata": {},
   "source": [
    "`WRITING TEXT FILES`\n",
    "\n",
    "---"
   ]
  },
  {
   "cell_type": "code",
   "execution_count": 36,
   "id": "d544f494",
   "metadata": {},
   "outputs": [],
   "source": [
    "#lets open the file write only mode\n",
    "my_file = open(\"C:/Users/sivak/OneDrive/Desktop/Books_Data/analytics vidhya/read text file/dataset/file_1.txt\", \"w\")"
   ]
  },
  {
   "cell_type": "code",
   "execution_count": 37,
   "id": "65a3f0c0",
   "metadata": {},
   "outputs": [
    {
     "data": {
      "text/plain": [
       "24"
      ]
     },
     "execution_count": 37,
     "metadata": {},
     "output_type": "execute_result"
    }
   ],
   "source": [
    "# write function will return the the length of text writen in the file\n",
    "my_file.write(\"Welcome to python wolrd!\")"
   ]
  },
  {
   "cell_type": "markdown",
   "id": "1ae6c14a",
   "metadata": {},
   "source": [
    "***`write` function will return the number of characters written in the file.***\n",
    "\n",
    "---"
   ]
  },
  {
   "cell_type": "code",
   "execution_count": null,
   "id": "a2f782a5",
   "metadata": {},
   "outputs": [],
   "source": []
  }
 ],
 "metadata": {
  "kernelspec": {
   "display_name": "Python 3",
   "language": "python",
   "name": "python3"
  },
  "language_info": {
   "codemirror_mode": {
    "name": "ipython",
    "version": 3
   },
   "file_extension": ".py",
   "mimetype": "text/x-python",
   "name": "python",
   "nbconvert_exporter": "python",
   "pygments_lexer": "ipython3",
   "version": "3.8.8"
  }
 },
 "nbformat": 4,
 "nbformat_minor": 5
}
